{
  "nbformat": 4,
  "nbformat_minor": 0,
  "metadata": {
    "colab": {
      "name": "Untitled2.ipynb",
      "provenance": [],
      "collapsed_sections": []
    },
    "kernelspec": {
      "name": "python3",
      "display_name": "Python 3"
    }
  },
  "cells": [
    {
      "cell_type": "code",
      "metadata": {
        "id": "TrTqSIoLIg4n",
        "colab_type": "code",
        "colab": {}
      },
      "source": [
        "import numpy as np\n",
        "import pandas as pd\n",
        "import random\n",
        "import re"
      ],
      "execution_count": 0,
      "outputs": []
    },
    {
      "cell_type": "code",
      "metadata": {
        "id": "njNKA0UCIv5K",
        "colab_type": "code",
        "outputId": "aceb251f-43f5-4509-f4da-85011d302e24",
        "colab": {
          "base_uri": "https://localhost:8080/",
          "height": 122
        }
      },
      "source": [
        "from google.colab import drive\n",
        "drive.mount('/content/drive')"
      ],
      "execution_count": 0,
      "outputs": [
        {
          "output_type": "stream",
          "text": [
            "Go to this URL in a browser: https://accounts.google.com/o/oauth2/auth?client_id=947318989803-6bn6qk8qdgf4n4g3pfee6491hc0brc4i.apps.googleusercontent.com&redirect_uri=urn%3aietf%3awg%3aoauth%3a2.0%3aoob&response_type=code&scope=email%20https%3a%2f%2fwww.googleapis.com%2fauth%2fdocs.test%20https%3a%2f%2fwww.googleapis.com%2fauth%2fdrive%20https%3a%2f%2fwww.googleapis.com%2fauth%2fdrive.photos.readonly%20https%3a%2f%2fwww.googleapis.com%2fauth%2fpeopleapi.readonly\n",
            "\n",
            "Enter your authorization code:\n",
            "··········\n",
            "Mounted at /content/drive\n"
          ],
          "name": "stdout"
        }
      ]
    },
    {
      "cell_type": "code",
      "metadata": {
        "id": "pcB_bItwIxby",
        "colab_type": "code",
        "outputId": "83990c58-920b-48c8-c6f9-9a602e41df5b",
        "colab": {
          "base_uri": "https://localhost:8080/",
          "height": 34
        }
      },
      "source": [
        "cd '/content/drive/My Drive/Colab Notebooks'"
      ],
      "execution_count": 0,
      "outputs": [
        {
          "output_type": "stream",
          "text": [
            "/content/drive/My Drive/Colab Notebooks\n"
          ],
          "name": "stdout"
        }
      ]
    },
    {
      "cell_type": "code",
      "metadata": {
        "id": "FbeeYWNArYo9",
        "colab_type": "code",
        "colab": {}
      },
      "source": [
        "class CYK(object):\n",
        "  def __init__(self):\n",
        "    self.rulesDict = {}\n",
        "    return\n",
        "   \n",
        "  # It takes folder path as a argument and return rules set \n",
        "  def rules(self, folderPath):\n",
        "    global wordsList\n",
        "    # Read all sentences\n",
        "    with open(folderPath) as f:\n",
        "      linesList = f.read().splitlines() \n",
        "\n",
        "    # Create list and dict for words and rules\n",
        "    rulesDict = {}\n",
        "    wordsList = []\n",
        "    for i in linesList:\n",
        "      # if there is a comment after rule, delete\n",
        "      if len(i.strip()) != 0 and not i.startswith('#'):\n",
        "        if '#' in i:\n",
        "          i = ''.join(i.split('#')[0])\n",
        "        # Split line into two pieces, first piece is Terminal\n",
        "        words = i.split('\\t')\n",
        "        if not words[0].strip() in rulesDict.keys():\n",
        "          rulesDict[words[0].strip()] = []\n",
        "\n",
        "        rulesDict[words[0].strip()].append(words[1].split())\n",
        "        \n",
        "        # If piece is lowercase then its word\n",
        "        if words[1].split()[0].islower():\n",
        "          wordsList.append(words[1].split()[0])\n",
        "    self.rulesDict = rulesDict\n",
        "    return rulesDict\n",
        "\n",
        "  # It is for randsentence, it takes start terminal end list then it generates random rule's word\n",
        "  def recursFunc(self, start, expansion):\n",
        "    if start in self.rulesDict.keys():\n",
        "      pick = random.choice(self.rulesDict[start])\n",
        "      for i in range(len(pick)):\n",
        "        self.recursFunc(pick[i], expansion)\n",
        "    else:\n",
        "      expansion.append(start)\n",
        "\n",
        "  # It takes rules, and define start terminal, then call recursive function\n",
        "  def randsentence(self, rulesDict): \n",
        "    wordList = []\n",
        "    start = 'S'\n",
        "    self.recursFunc(start, wordList)\n",
        "    generatedSentence = ' '.join(wordList)\n",
        "    return generatedSentence\n",
        "\n",
        "  # It takes rules and integer then it generate random words from word list.\n",
        "  def randsentence2(self, rulesDict, n):\n",
        "    words = []\n",
        "    for i in range(n):\n",
        "      words.append(random.choice(wordsList))\n",
        "    \n",
        "    return ' '.join(words)\n",
        "\n",
        "  # It get value and return corresponding key in rules set\n",
        "  def get_key(self, val): \n",
        "    keys = ''\n",
        "    for key, values in self.rulesDict.items(): \n",
        "      for value in values:\n",
        "        if val == value: \n",
        "          keys += key + ' ' \n",
        "    if not keys is '':\n",
        "      return keys.strip()\n",
        "    else:\n",
        "      return ''\n",
        "\n",
        "  def comp(self, first, second):\n",
        "    # Find key\n",
        "    matchKey = self.get_key([first[0], second[0]])\n",
        "    # If key is not found, search value's another key\n",
        "    if matchKey is '':\n",
        "      firstList = [first[0], self.get_key([first[0]])]\n",
        "      secondList = [second[0], self.get_key([second[0]])]\n",
        "      keys = ''\n",
        "      for el1 in firstList:\n",
        "        for el2 in secondList:\n",
        "          key = self.get_key([el1, el2])\n",
        "          if not key in keys:\n",
        "            keys += key + ' '\n",
        "      return keys.strip()              \n",
        "      \n",
        "    return matchKey\n",
        "  \n",
        "  def defuse(self, i, j):\n",
        "    newKeys = ''\n",
        "    for x in range(i, j):\n",
        "      a = Matris[i][x]\n",
        "      b = Matris[x+1][j]\n",
        "      res = self.comp(a,b)\n",
        "      if not res in newKeys:\n",
        "        newKeys += res + ' '\n",
        "    if newKeys.strip() is '':\n",
        "      newKeys = '-'\n",
        "    return newKeys.strip()\n",
        "\n",
        "  def CYKParser(self, sentence):\n",
        "    global Matris\n",
        "    # Create dict for CYK Parser\n",
        "    Matris = {}\n",
        "\n",
        "    words = sentence.split()\n",
        "    # First 'for loop' for initial state X(i,i) \n",
        "    for i in range(len(words)):\n",
        "      Matris[i + 1] = {}\n",
        "      Matris[i + 1][i + 1] = []\n",
        "      keys = self.get_key([words[i]])\n",
        "      \n",
        "      if keys is '':\n",
        "        keys = '-'\n",
        "      Matris[i + 1][i + 1].append(keys)\n",
        "\n",
        "\n",
        "    for i in range(1, len(words)):\n",
        "      for j in range(1, len(words) - i + 1):\n",
        "        Matris[j][j + i] = []\n",
        "        listt = self.defuse(j, j + i)\n",
        "        Matris[j][j + i].append(listt)\n",
        "\n",
        "    if Matris[1][len(words)][0] is 'S':\n",
        "      return 'Correct'\n",
        "    else: \n",
        "      return 'Not Correct'\n",
        "\n",
        "  def Test(self):\n",
        "    recursFunc('-', [])\n",
        "    get_key(['-'])\n",
        "    comp([],[])\n",
        "    defuse(0,0)\n",
        "    "
      ],
      "execution_count": 0,
      "outputs": []
    },
    {
      "cell_type": "code",
      "metadata": {
        "id": "OfCVxsWXs7Au",
        "colab_type": "code",
        "colab": {}
      },
      "source": [
        "cyk = CYK()\n",
        "\n",
        "rulesSet = cyk.rules('cfg.gr')"
      ],
      "execution_count": 0,
      "outputs": []
    },
    {
      "cell_type": "code",
      "metadata": {
        "id": "51_D-t1tCKcu",
        "colab_type": "code",
        "outputId": "1b20e914-c02e-4e1d-8d3f-5d9a9e4d2f4d",
        "colab": {
          "base_uri": "https://localhost:8080/",
          "height": 102
        }
      },
      "source": [
        "grammaticallyCorrectSentence = cyk.randsentence(rulesSet)\n",
        "grammaticallyNotCorrectSentence = cyk.randsentence2(rulesSet, 10)\n",
        "\n",
        "state1 = cyk.CYKParser(grammaticallyCorrectSentence)\n",
        "state2 = cyk.CYKParser(grammaticallyNotCorrectSentence)\n",
        "\n",
        "print(grammaticallyCorrectSentence)\n",
        "print(state1)\n",
        "print()\n",
        "print(grammaticallyNotCorrectSentence)\n",
        "print(state2)\n"
      ],
      "execution_count": 0,
      "outputs": [
        {
          "output_type": "stream",
          "text": [
            "every mouse in that floor under every delicious pickle under you under the pickle want i\n",
            "Correct\n",
            "\n",
            "prefer ate sandwich you from president from pickled on fine\n",
            "Not Correct\n"
          ],
          "name": "stdout"
        }
      ]
    },
    {
      "cell_type": "code",
      "metadata": {
        "id": "ir0c-4QaK7t-",
        "colab_type": "code",
        "outputId": "d3294758-23b1-4a88-97fd-b7165e29e2e6",
        "colab": {
          "base_uri": "https://localhost:8080/",
          "height": 34
        }
      },
      "source": [
        "# This part generate correct sentence with randsentence2 function, which is contain all random words\n",
        "a = True\n",
        "sent =''\n",
        "while a:\n",
        "  sent = cyk.randsentence2(rulesSet, 6)\n",
        "  cor = cyk.CYKParser(sent)\n",
        "  if cor is 'Correct':\n",
        "    print(sent)\n",
        "    a = False"
      ],
      "execution_count": 0,
      "outputs": [
        {
          "output_type": "stream",
          "text": [
            "it with it wanted that pickle\n"
          ],
          "name": "stdout"
        }
      ]
    }
  ]
}